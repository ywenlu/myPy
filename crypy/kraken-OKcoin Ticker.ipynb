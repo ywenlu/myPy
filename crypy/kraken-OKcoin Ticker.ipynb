{
 "cells": [
  {
   "cell_type": "code",
   "execution_count": 8,
   "metadata": {
    "collapsed": true
   },
   "outputs": [],
   "source": [
    "import urllib2\n",
    "import pandas as pd\n",
    "import numpy as np\n",
    "import matplotlib.pyplot as plt\n",
    "import json\n",
    "\n",
    "import krakenex\n",
    "%matplotlib inline"
   ]
  },
  {
   "cell_type": "code",
   "execution_count": 9,
   "metadata": {
    "collapsed": false
   },
   "outputs": [],
   "source": [
    "btcOK  = urllib2.urlopen(\"https://www.okcoin.cn/api/v1/ticker.do?symbol=btc_cny\").read()\n",
    "bccOK  = urllib2.urlopen(\"https://www.okcoin.cn/api/v1/ticker.do?symbol=bcc_cny\").read()\n",
    "ltcOK  = urllib2.urlopen(\"https://www.okcoin.cn/api/v1/ticker.do?symbol=ltc_cny\").read()\n",
    "ethOK  = urllib2.urlopen(\"https://www.okcoin.cn/api/v1/ticker.do?symbol=eth_cny\").read()\n",
    "etcOK  = urllib2.urlopen(\"https://www.okcoin.cn/api/v1/ticker.do?symbol=etc_cny\").read()\n",
    "\n",
    "okls=['btcOK','bccOK','ltcOK','ethOK','etcOK']\n",
    "\n",
    "OKdf = pd.DataFrame([json.loads(ok)['ticker'] for ok in  [btcOK,bccOK,ltcOK,ethOK,etcOK]],index=okls)\n"
   ]
  },
  {
   "cell_type": "code",
   "execution_count": null,
   "metadata": {
    "collapsed": true
   },
   "outputs": [],
   "source": [
    "k = krakenex.API()\n",
    "assetpairls = list(pd.DataFrame(k.query_public('AssetPairs',{})['result']).columns.values)\n",
    "\n",
    "euro_pair = [u'BCHEUR', u'DASHEUR', u'XETCZEUR', u'XETHZEUR', u'XLTCZEUR', u'XREPZEUR', u'XXBTZEUR', u'XXMRZEUR', u'XXRPZEUR', u'XZECZEUR']\n",
    "usd_pair = [u'BCHUSD', u'DASHUSD', u'USDTZUSD', u'XETCZUSD', u'XETHZUSD', u'XLTCZUSD', u'XXBTZUSD', u'XXMRZUSD', u'XXRPZUSD', u'XZECZUSD']\n",
    "jpy_pair = [u'XETHZJPY', u'XXBTZJPY']\n",
    "gbp_pair = [u'XETHZGBP', u'XXBTZGBP']\n",
    "cad_pair = [u'XETHZCAD', u'XXBTZCAD']\n",
    "del_pair = [u'XETHXXBT.d', u'XETHZCAD.d', u'XETHZEUR.d', u'XETHZGBP.d', u'XETHZJPY.d', u'XETHZUSD.d', u'XXBTZCAD.d', u'XXBTZEUR.d', u'XXBTZGBP.d', u'XXBTZJPY.d', u'XXBTZUSD.d']\n",
    "x_pair =list (set(assetpairls)-set(euro_pair)-set(usd_pair)-set(jpy_pair)-set(gbp_pair)-set(cad_pair)-set(del_pair))\n",
    "x_xbt_pair = [i for i in x_pair if i[-3:]=='XBT']\n",
    "x_eth_pair = [i for i in x_pair if i[-3:]=='ETH']\n",
    "\n",
    "\n",
    "\n",
    "\n",
    "#k.load_key('krakenapikey.txt')\n",
    "\n",
    "euro_pair = ['XXBTZEUR','BCHEUR','XLTCZEUR','XETHZEUR','XETCZEUR','XETCXXBT','BCHXBT']\n",
    "ok_xbt_pair = ['BCHXBT','XLTCXXBT','XETHXXBT','XETCXXBT']"
   ]
  },
  {
   "cell_type": "code",
   "execution_count": null,
   "metadata": {
    "collapsed": true
   },
   "outputs": [],
   "source": [
    "krakenls = euro_pair\n",
    "krakenEURdf=pd.DataFrame([{'buy':(k.query_public('Ticker', {'pair': kraken}))['result'][kraken]['a'][0],\n",
    "'sell':(k.query_public('Ticker', {'pair': kraken}))['result'][kraken]['b'][0]} for kraken in krakenls],index=krakenls)"
   ]
  },
  {
   "cell_type": "code",
   "execution_count": 12,
   "metadata": {
    "collapsed": false
   },
   "outputs": [],
   "source": [
    "krakenls= ok_xbt_pair\n",
    "krakenXBTdf=pd.DataFrame([{'buy':(k.query_public('Ticker', {'pair': kraken}))['result'][kraken]['a'][0],\n",
    "'sell':(k.query_public('Ticker', {'pair': kraken}))['result'][kraken]['b'][0]} for kraken in krakenls],index=krakenls)"
   ]
  },
  {
   "cell_type": "code",
   "execution_count": 54,
   "metadata": {
    "collapsed": false
   },
   "outputs": [
    {
     "name": "stdout",
     "output_type": "stream",
     "text": [
      "Kraken:\n",
      "                 buy        sell\n",
      "BCHXBT    0.13493000  0.13415000\n",
      "XLTCXXBT  0.01614200  0.01602500\n",
      "XETHXXBT    0.070080    0.070030\n",
      "XETCXXBT  0.00367800  0.00364000\n",
      "--------------------------------------------------\n",
      "OK coin:\n",
      "           buy     sell\n",
      "bccOK  2931.45  2960.59\n",
      "ltcOK   408.51   408.62\n",
      "ethOK  1782.00  1784.00\n",
      "etcOK    91.50    91.77\n"
     ]
    }
   ],
   "source": [
    "print 'Kraken:'\n",
    "print krakenXBTdf\n",
    "print '-'*50\n",
    "print 'OK coin:'\n",
    "print OKdf.ix[1:,['buy','sell']].astype('float')"
   ]
  },
  {
   "cell_type": "code",
   "execution_count": 63,
   "metadata": {
    "collapsed": false
   },
   "outputs": [
    {
     "data": {
      "text/plain": [
       "array([ 1.16668696,  1.00009557,  1.00189587,  1.01420664])"
      ]
     },
     "execution_count": 63,
     "metadata": {},
     "output_type": "execute_result"
    }
   ],
   "source": [
    "np.array(krakenXBTdf['sell'].astype(float))\n",
    "np.array(OKdf.ix[1:,'buy'].astype(float))\n",
    "(np.array(krakenXBTdf['sell'].astype(float))*float(OKdf.loc['btcOK','sell']))/np.array(OKdf.ix[1:,'buy'].astype(float))"
   ]
  },
  {
   "cell_type": "code",
   "execution_count": null,
   "metadata": {
    "collapsed": true
   },
   "outputs": [],
   "source": []
  },
  {
   "cell_type": "code",
   "execution_count": 22,
   "metadata": {
    "collapsed": false
   },
   "outputs": [
    {
     "data": {
      "text/plain": [
       "[<matplotlib.lines.Line2D at 0xac596a0>]"
      ]
     },
     "execution_count": 22,
     "metadata": {},
     "output_type": "execute_result"
    },
    {
     "data": {
      "image/png": "[encoded data removed]",
      "text/plain": [
       "<matplotlib.figure.Figure at 0xa800c88>"
      ]
     },
     "metadata": {},
     "output_type": "display_data"
    }
   ],
   "source": [
    "tmpk=krakendf.iloc[:5,:]\n",
    "tmpo=OKdf[['buy','sell']]\n",
    "plt.plot(np.array([np.array(tmpo['buy'].astype(float))/np.array((tmpk['sell']).astype(float))])[0])"
   ]
  },
  {
   "cell_type": "code",
   "execution_count": 20,
   "metadata": {
    "collapsed": false
   },
   "outputs": [
    {
     "data": {
      "text/html": [
       "<div>\n",
       "<table border=\"1\" class=\"dataframe\">\n",
       "  <thead>\n",
       "    <tr style=\"text-align: right;\">\n",
       "      <th></th>\n",
       "      <th>buy</th>\n",
       "      <th>sell</th>\n",
       "    </tr>\n",
       "  </thead>\n",
       "  <tbody>\n",
       "    <tr>\n",
       "      <th>XXBTZEUR</th>\n",
       "      <td>3549.50000</td>\n",
       "      <td>3541.00000</td>\n",
       "    </tr>\n",
       "    <tr>\n",
       "      <th>BCHEUR</th>\n",
       "      <td>480.000000</td>\n",
       "      <td>479.900000</td>\n",
       "    </tr>\n",
       "    <tr>\n",
       "      <th>XLTCZEUR</th>\n",
       "      <td>57.21000</td>\n",
       "      <td>57.20000</td>\n",
       "    </tr>\n",
       "    <tr>\n",
       "      <th>XETHZEUR</th>\n",
       "      <td>247.00000</td>\n",
       "      <td>247.00000</td>\n",
       "    </tr>\n",
       "    <tr>\n",
       "      <th>XETCZEUR</th>\n",
       "      <td>13.09100000</td>\n",
       "      <td>12.93000000</td>\n",
       "    </tr>\n",
       "    <tr>\n",
       "      <th>XETCXXBT</th>\n",
       "      <td>0.00364900</td>\n",
       "      <td>0.00364300</td>\n",
       "    </tr>\n",
       "  </tbody>\n",
       "</table>\n",
       "</div>"
      ],
      "text/plain": [
       "                  buy         sell\n",
       "XXBTZEUR   3549.50000   3541.00000\n",
       "BCHEUR     480.000000   479.900000\n",
       "XLTCZEUR     57.21000     57.20000\n",
       "XETHZEUR    247.00000    247.00000\n",
       "XETCZEUR  13.09100000  12.93000000\n",
       "XETCXXBT   0.00364900   0.00364300"
      ]
     },
     "execution_count": 20,
     "metadata": {},
     "output_type": "execute_result"
    }
   ],
   "source": [
    "tmpk"
   ]
  }
 ],
 "metadata": {
  "kernelspec": {
   "display_name": "Python 2",
   "language": "python",
   "name": "python2"
  },
  "language_info": {
   "codemirror_mode": {
    "name": "ipython",
    "version": 2
   },
   "file_extension": ".py",
   "mimetype": "text/x-python",
   "name": "python",
   "nbconvert_exporter": "python",
   "pygments_lexer": "ipython2",
   "version": "2.7.13"
  }
 },
 "nbformat": 4,
 "nbformat_minor": 2
}
