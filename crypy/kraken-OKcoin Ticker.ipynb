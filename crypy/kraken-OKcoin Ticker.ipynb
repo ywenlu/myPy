{
 "cells": [
  {
   "cell_type": "code",
   "execution_count": 29,
   "metadata": {
    "collapsed": true
   },
   "outputs": [],
   "source": [
    "import urllib2\n",
    "import pandas as pd\n",
    "import numpy as np\n",
    "import matplotlib.pyplot as plt\n",
    "import json\n",
    "\n",
    "import krakenex\n",
    "%matplotlib inline"
   ]
  },
  {
   "cell_type": "code",
   "execution_count": 30,
   "metadata": {
    "collapsed": false
   },
   "outputs": [],
   "source": [
    "btcOK  = urllib2.urlopen(\"https://www.okcoin.cn/api/v1/ticker.do?symbol=btc_cny\").read()\n",
    "bccOK  = urllib2.urlopen(\"https://www.okcoin.cn/api/v1/ticker.do?symbol=bcc_cny\").read()\n",
    "ltcOK  = urllib2.urlopen(\"https://www.okcoin.cn/api/v1/ticker.do?symbol=ltc_cny\").read()\n",
    "ethOK  = urllib2.urlopen(\"https://www.okcoin.cn/api/v1/ticker.do?symbol=eth_cny\").read()\n",
    "etcOK  = urllib2.urlopen(\"https://www.okcoin.cn/api/v1/ticker.do?symbol=etc_cny\").read()\n",
    "\n",
    "okls=['btcOK','bccOK','ltcOK','ethOK','etcOK']\n",
    "\n",
    "OKdf = pd.DataFrame([json.loads(ok)['ticker'] for ok in  [btcOK,bccOK,ltcOK,ethOK,etcOK]],index=okls)\n"
   ]
  },
  {
   "cell_type": "code",
   "execution_count": 31,
   "metadata": {
    "collapsed": true
   },
   "outputs": [],
   "source": [
    "k = krakenex.API()\n",
    "assetpairls = list(pd.DataFrame(k.query_public('AssetPairs',{})['result']).columns.values)\n",
    "\n",
    "euro_pair = [u'BCHEUR', u'DASHEUR', u'XETCZEUR', u'XETHZEUR', u'XLTCZEUR', u'XREPZEUR', u'XXBTZEUR', u'XXMRZEUR', u'XXRPZEUR', u'XZECZEUR']\n",
    "usd_pair = [u'BCHUSD', u'DASHUSD', u'USDTZUSD', u'XETCZUSD', u'XETHZUSD', u'XLTCZUSD', u'XXBTZUSD', u'XXMRZUSD', u'XXRPZUSD', u'XZECZUSD']\n",
    "jpy_pair = [u'XETHZJPY', u'XXBTZJPY']\n",
    "gbp_pair = [u'XETHZGBP', u'XXBTZGBP']\n",
    "cad_pair = [u'XETHZCAD', u'XXBTZCAD']\n",
    "del_pair = [u'XETHXXBT.d', u'XETHZCAD.d', u'XETHZEUR.d', u'XETHZGBP.d', u'XETHZJPY.d', u'XETHZUSD.d', u'XXBTZCAD.d', u'XXBTZEUR.d', u'XXBTZGBP.d', u'XXBTZJPY.d', u'XXBTZUSD.d']\n",
    "x_pair =list (set(assetpairls)-set(euro_pair)-set(usd_pair)-set(jpy_pair)-set(gbp_pair)-set(cad_pair)-set(del_pair))\n",
    "x_xbt_pair = [i for i in x_pair if i[-3:]=='XBT']\n",
    "x_eth_pair = [i for i in x_pair if i[-3:]=='ETH']\n",
    "\n",
    "\n",
    "\n",
    "\n",
    "#k.load_key('krakenapikey.txt')\n",
    "\n",
    "euro_pair = ['XXBTZEUR','BCHEUR','XLTCZEUR','XETHZEUR','XETCZEUR','XETCXXBT','BCHXBT']\n",
    "ok_xbt_pair = ['BCHXBT','XLTCXXBT','XETHXXBT','XETCXXBT']"
   ]
  },
  {
   "cell_type": "code",
   "execution_count": 33,
   "metadata": {
    "collapsed": true
   },
   "outputs": [],
   "source": [
    "krakenls = euro_pair\n",
    "krakenEURdf=pd.DataFrame([{'buy':(k.query_public('Ticker', {'pair': kraken}))['result'][kraken]['a'][0],\n",
    "'sell':(k.query_public('Ticker', {'pair': kraken}))['result'][kraken]['b'][0]} for kraken in krakenls],index=krakenls)"
   ]
  },
  {
   "cell_type": "code",
   "execution_count": 5,
   "metadata": {
    "collapsed": false
   },
   "outputs": [],
   "source": [
    "krakenls= ok_xbt_pair\n",
    "krakenXBTdf=pd.DataFrame([{'buy':(k.query_public('Ticker', {'pair': kraken}))['result'][kraken]['a'][0],\n",
    "'sell':(k.query_public('Ticker', {'pair': kraken}))['result'][kraken]['b'][0]} for kraken in krakenls],index=krakenls)"
   ]
  },
  {
   "cell_type": "code",
   "execution_count": 6,
   "metadata": {
    "collapsed": false
   },
   "outputs": [
    {
     "name": "stdout",
     "output_type": "stream",
     "text": [
      "Kraken:\n",
      "                 buy        sell\n",
      "BCHXBT    0.11549000  0.11522000\n",
      "XLTCXXBT  0.01414800  0.01413900\n",
      "XETHXXBT    0.068940    0.068830\n",
      "XETCXXBT  0.00315400  0.00311600\n",
      "--------------------------------------------------\n",
      "OK coin:\n",
      "           buy     sell\n",
      "bccOK  1950.00  1993.43\n",
      "ltcOK   271.61   271.98\n",
      "ethOK  1370.00  1374.88\n",
      "etcOK    59.24    59.70\n"
     ]
    }
   ],
   "source": [
    "print 'Kraken:'\n",
    "print krakenXBTdf\n",
    "print '-'*50\n",
    "print 'OK coin:'\n",
    "print OKdf.ix[1:,['buy','sell']].astype('float')"
   ]
  },
  {
   "cell_type": "code",
   "execution_count": 7,
   "metadata": {
    "collapsed": false
   },
   "outputs": [
    {
     "data": {
      "text/plain": [
       "array([ 1.17636547,  1.03638698,  1.00024459,  1.04720428])"
      ]
     },
     "execution_count": 7,
     "metadata": {},
     "output_type": "execute_result"
    }
   ],
   "source": [
    "np.array(krakenXBTdf['sell'].astype(float))\n",
    "np.array(OKdf.ix[1:,'buy'].astype(float))\n",
    "(np.array(krakenXBTdf['sell'].astype(float))*float(OKdf.loc['btcOK','sell']))/np.array(OKdf.ix[1:,'buy'].astype(float))"
   ]
  },
  {
   "cell_type": "code",
   "execution_count": 20,
   "metadata": {
    "collapsed": false
   },
   "outputs": [
    {
     "data": {
      "text/html": [
       "<div>\n",
       "<table border=\"1\" class=\"dataframe\">\n",
       "  <thead>\n",
       "    <tr style=\"text-align: right;\">\n",
       "      <th></th>\n",
       "      <th>buy</th>\n",
       "      <th>sell</th>\n",
       "    </tr>\n",
       "  </thead>\n",
       "  <tbody>\n",
       "    <tr>\n",
       "      <th>XXBTZEUR</th>\n",
       "      <td>3267.70000</td>\n",
       "      <td>3261.50000</td>\n",
       "    </tr>\n",
       "    <tr>\n",
       "      <th>BCHEUR</th>\n",
       "      <td>392.600000</td>\n",
       "      <td>391.600000</td>\n",
       "    </tr>\n",
       "    <tr>\n",
       "      <th>XLTCZEUR</th>\n",
       "      <td>47.42000</td>\n",
       "      <td>47.40000</td>\n",
       "    </tr>\n",
       "    <tr>\n",
       "      <th>XETHZEUR</th>\n",
       "      <td>225.47000</td>\n",
       "      <td>225.04000</td>\n",
       "    </tr>\n",
       "    <tr>\n",
       "      <th>XETCZEUR</th>\n",
       "      <td>10.18600000</td>\n",
       "      <td>10.10100000</td>\n",
       "    </tr>\n",
       "    <tr>\n",
       "      <th>XETCXXBT</th>\n",
       "      <td>0.00312000</td>\n",
       "      <td>0.00309600</td>\n",
       "    </tr>\n",
       "    <tr>\n",
       "      <th>BCHXBT</th>\n",
       "      <td>0.11984000</td>\n",
       "      <td>0.11923000</td>\n",
       "    </tr>\n",
       "  </tbody>\n",
       "</table>\n",
       "</div>"
      ],
      "text/plain": [
       "                  buy         sell\n",
       "XXBTZEUR   3267.70000   3261.50000\n",
       "BCHEUR     392.600000   391.600000\n",
       "XLTCZEUR     47.42000     47.40000\n",
       "XETHZEUR    225.47000    225.04000\n",
       "XETCZEUR  10.18600000  10.10100000\n",
       "XETCXXBT   0.00312000   0.00309600\n",
       "BCHXBT     0.11984000   0.11923000"
      ]
     },
     "execution_count": 20,
     "metadata": {},
     "output_type": "execute_result"
    }
   ],
   "source": [
    "krakenEURdf"
   ]
  },
  {
   "cell_type": "code",
   "execution_count": 34,
   "metadata": {
    "collapsed": false
   },
   "outputs": [
    {
     "data": {
      "text/plain": [
       "array([ 0.1929733 ,  0.35405369,  0.22378849,  0.18355965,  0.20553166])"
      ]
     },
     "execution_count": 34,
     "metadata": {},
     "output_type": "execute_result"
    }
   ],
   "source": [
    "(np.array(krakenEURdf.ix[:5,'sell'].astype(float))*7.55-np.array(OKdf['buy'].astype(float)))/np.array(OKdf['buy'].astype(float))"
   ]
  },
  {
   "cell_type": "code",
   "execution_count": 28,
   "metadata": {
    "collapsed": false
   },
   "outputs": [
    {
     "ename": "NameError",
     "evalue": "name 'krakendf' is not defined",
     "output_type": "error",
     "traceback": [
      "\u001b[0;31m---------------------------------------------------------------------------\u001b[0m",
      "\u001b[0;31mNameError\u001b[0m                                 Traceback (most recent call last)",
      "\u001b[0;32m<ipython-input-28-6c8d2c913214>\u001b[0m in \u001b[0;36m<module>\u001b[0;34m()\u001b[0m\n\u001b[0;32m----> 1\u001b[0;31m \u001b[0mtmpk\u001b[0m\u001b[1;33m=\u001b[0m\u001b[0mkrakendf\u001b[0m\u001b[1;33m.\u001b[0m\u001b[0miloc\u001b[0m\u001b[1;33m[\u001b[0m\u001b[1;33m:\u001b[0m\u001b[1;36m5\u001b[0m\u001b[1;33m,\u001b[0m\u001b[1;33m:\u001b[0m\u001b[1;33m]\u001b[0m\u001b[1;33m\u001b[0m\u001b[0m\n\u001b[0m\u001b[1;32m      2\u001b[0m \u001b[0mtmpo\u001b[0m\u001b[1;33m=\u001b[0m\u001b[0mOKdf\u001b[0m\u001b[1;33m[\u001b[0m\u001b[1;33m[\u001b[0m\u001b[1;34m'buy'\u001b[0m\u001b[1;33m,\u001b[0m\u001b[1;34m'sell'\u001b[0m\u001b[1;33m]\u001b[0m\u001b[1;33m]\u001b[0m\u001b[1;33m\u001b[0m\u001b[0m\n\u001b[1;32m      3\u001b[0m \u001b[0mplt\u001b[0m\u001b[1;33m.\u001b[0m\u001b[0mplot\u001b[0m\u001b[1;33m(\u001b[0m\u001b[0mnp\u001b[0m\u001b[1;33m.\u001b[0m\u001b[0marray\u001b[0m\u001b[1;33m(\u001b[0m\u001b[1;33m[\u001b[0m\u001b[0mnp\u001b[0m\u001b[1;33m.\u001b[0m\u001b[0marray\u001b[0m\u001b[1;33m(\u001b[0m\u001b[0mtmpo\u001b[0m\u001b[1;33m[\u001b[0m\u001b[1;34m'buy'\u001b[0m\u001b[1;33m]\u001b[0m\u001b[1;33m.\u001b[0m\u001b[0mastype\u001b[0m\u001b[1;33m(\u001b[0m\u001b[0mfloat\u001b[0m\u001b[1;33m)\u001b[0m\u001b[1;33m)\u001b[0m\u001b[1;33m/\u001b[0m\u001b[0mnp\u001b[0m\u001b[1;33m.\u001b[0m\u001b[0marray\u001b[0m\u001b[1;33m(\u001b[0m\u001b[1;33m(\u001b[0m\u001b[0mtmpk\u001b[0m\u001b[1;33m[\u001b[0m\u001b[1;34m'sell'\u001b[0m\u001b[1;33m]\u001b[0m\u001b[1;33m)\u001b[0m\u001b[1;33m.\u001b[0m\u001b[0mastype\u001b[0m\u001b[1;33m(\u001b[0m\u001b[0mfloat\u001b[0m\u001b[1;33m)\u001b[0m\u001b[1;33m)\u001b[0m\u001b[1;33m]\u001b[0m\u001b[1;33m)\u001b[0m\u001b[1;33m[\u001b[0m\u001b[1;36m0\u001b[0m\u001b[1;33m]\u001b[0m\u001b[1;33m)\u001b[0m\u001b[1;33m\u001b[0m\u001b[0m\n",
      "\u001b[0;31mNameError\u001b[0m: name 'krakendf' is not defined"
     ]
    }
   ],
   "source": [
    "tmpk=krakendf.iloc[:5,:]\n",
    "tmpo=OKdf[['buy','sell']]\n",
    "plt.plot(np.array([np.array(tmpo['buy'].astype(float))/np.array((tmpk['sell']).astype(float))])[0])"
   ]
  },
  {
   "cell_type": "code",
   "execution_count": 20,
   "metadata": {
    "collapsed": false
   },
   "outputs": [
    {
     "data": {
      "text/html": [
       "<div>\n",
       "<table border=\"1\" class=\"dataframe\">\n",
       "  <thead>\n",
       "    <tr style=\"text-align: right;\">\n",
       "      <th></th>\n",
       "      <th>buy</th>\n",
       "      <th>sell</th>\n",
       "    </tr>\n",
       "  </thead>\n",
       "  <tbody>\n",
       "    <tr>\n",
       "      <th>XXBTZEUR</th>\n",
       "      <td>3549.50000</td>\n",
       "      <td>3541.00000</td>\n",
       "    </tr>\n",
       "    <tr>\n",
       "      <th>BCHEUR</th>\n",
       "      <td>480.000000</td>\n",
       "      <td>479.900000</td>\n",
       "    </tr>\n",
       "    <tr>\n",
       "      <th>XLTCZEUR</th>\n",
       "      <td>57.21000</td>\n",
       "      <td>57.20000</td>\n",
       "    </tr>\n",
       "    <tr>\n",
       "      <th>XETHZEUR</th>\n",
       "      <td>247.00000</td>\n",
       "      <td>247.00000</td>\n",
       "    </tr>\n",
       "    <tr>\n",
       "      <th>XETCZEUR</th>\n",
       "      <td>13.09100000</td>\n",
       "      <td>12.93000000</td>\n",
       "    </tr>\n",
       "    <tr>\n",
       "      <th>XETCXXBT</th>\n",
       "      <td>0.00364900</td>\n",
       "      <td>0.00364300</td>\n",
       "    </tr>\n",
       "  </tbody>\n",
       "</table>\n",
       "</div>"
      ],
      "text/plain": [
       "                  buy         sell\n",
       "XXBTZEUR   3549.50000   3541.00000\n",
       "BCHEUR     480.000000   479.900000\n",
       "XLTCZEUR     57.21000     57.20000\n",
       "XETHZEUR    247.00000    247.00000\n",
       "XETCZEUR  13.09100000  12.93000000\n",
       "XETCXXBT   0.00364900   0.00364300"
      ]
     },
     "execution_count": 20,
     "metadata": {},
     "output_type": "execute_result"
    }
   ],
   "source": [
    "tmpk"
   ]
  }
 ],
 "metadata": {
  "kernelspec": {
   "display_name": "Python 2",
   "language": "python",
   "name": "python2"
  },
  "language_info": {
   "codemirror_mode": {
    "name": "ipython",
    "version": 2
   },
   "file_extension": ".py",
   "mimetype": "text/x-python",
   "name": "python",
   "nbconvert_exporter": "python",
   "pygments_lexer": "ipython2",
   "version": "2.7.13"
  }
 },
 "nbformat": 4,
 "nbformat_minor": 2
}
