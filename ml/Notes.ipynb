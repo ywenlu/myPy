{
 "cells": [
  {
   "cell_type": "markdown",
   "metadata": {},
   "source": [
    "# Datetime module\n",
    "https://www.youtube.com/watch?v=eirjjyP2qcQ&list=PL-osiE80TeTskrapNbzXhwoFUiLCjGgY7&index=15"
   ]
  },
  {
   "cell_type": "code",
   "execution_count": 21,
   "metadata": {
    "collapsed": false
   },
   "outputs": [
    {
     "name": "stdout",
     "output_type": "stream",
     "text": [
      "2016-07-24\n",
      "2017-08-15\n",
      "(2017, 8, 15)\n",
      "1\n",
      "2\n",
      "2017-08-08\n",
      "(datetime.timedelta(336), 336, 29030400.0)\n"
     ]
    }
   ],
   "source": [
    "import datetime\n",
    "\n",
    "#create date\n",
    "d = datetime.date(2016, 7, 24)\n",
    "print (d)\n",
    "tday=datetime.date.today()\n",
    "print (tday)\n",
    "\n",
    "#get property of date\n",
    "print (tday.year, tday.month, tday.day)\n",
    "print (tday.weekday()) #moday is 0 sunday 6\n",
    "print (tday.isoweekday()) #monday is 1 sunday 7\n",
    "\n",
    "#delta time\n",
    "tdelta = datetime.timedelta(days=7)\n",
    "print(tday - tdelta)\n",
    "bday = datetime.date(2018, 7, 17)\n",
    "till_bday = bday - tday\n",
    "print (till_bday, till_bday.days, till_bday.total_seconds())"
   ]
  },
  {
   "cell_type": "markdown",
   "metadata": {},
   "source": [
    "#time\n",
    "t = datetime.time(9, 30, 45, 1000)\n",
    "print(t.hour)\n",
    "dt = datetime.datetime(2016, 7, 26, 12, 30, 45, 1000)  \n",
    "print(dt.date())\n",
    "print(dt.time())\n",
    "print(dt.year)\n",
    "\n",
    "tdelta = datetime.timedelta(hours=12)\n",
    "print(dt+tdelta)"
   ]
  },
  {
   "cell_type": "code",
   "execution_count": null,
   "metadata": {
    "collapsed": true
   },
   "outputs": [],
   "source": [
    "import pytz\n",
    "dt_today = datetime.datetime.now() # current local datetime\n",
    "dt_now = datetime.datetime.now() # give option time zone\n",
    "dt_utcnow = datetime.datetime.utcnow() # current utc time\n",
    "\n",
    "print(dt_today)\n",
    "print(dt_now)\n",
    "print(dt_utcnow)\n",
    "\n",
    "# settle timezone aware datetime\n",
    "dt = datetime.datetime(2016, 7, 27, 12, 30, 45, tzinfo=pytz.UTC)\n",
    "print(dt)\n",
    "\n",
    "dt_utcnow = datetime.datetime.now(tz=pytz.UTC)\n",
    "print(dt_utcnow)\n",
    "\n",
    "# convert time to a certain time zone\n",
    "dt_mtn = dt_utcnow.astimezone(pytz.timezone('US/Mountain'))\n",
    "print(dt_mtn)\n",
    "\n",
    "#print all the available timezone\n",
    "for tz in pytz.all_timezones:\n",
    "    print(tz)\n",
    "    \n",
    "# naive datetime to timezone aware\n",
    "dt_mtn = datetime.datetime.now()\n",
    "mtn_tz = pytz.timezone('US/Mountain')\n",
    "dt_mtn = mtn_tz.localize(dt_mtn)"
   ]
  },
  {
   "cell_type": "code",
   "execution_count": null,
   "metadata": {
    "collapsed": true
   },
   "outputs": [],
   "source": [
    "# print datetime \n",
    "dt_mtn = datetime.datetime.now(tz=pytz.timezone('US/Mountain'))\n",
    "print(dt_mtn.strftime('%B %d, %Y'))\n",
    "# parse datetime from string\n",
    "dt_str = 'July 26, 2016'\n",
    "dt = datetime.datetime.strptime(dt_str,'%B %d, %Y')\n",
    "print(dt)"
   ]
  },
  {
   "cell_type": "markdown",
   "metadata": {},
   "source": [
    "# Sort list, tuple, and object"
   ]
  },
  {
   "cell_type": "code",
   "execution_count": 25,
   "metadata": {
    "collapsed": false
   },
   "outputs": [
    {
     "name": "stdout",
     "output_type": "stream",
     "text": [
      "[11, 9, 2, 1]\n",
      "('list:', [11, 9, 2, 1])\n",
      "('tuple:', [1, 2, 9, 11])\n",
      "('dict:', ['age', 'job', 'name'])\n"
     ]
    }
   ],
   "source": [
    "# list\n",
    "li = [9, 1, 2, 11]\n",
    "s_li = sorted(li, reverse=True)\n",
    "print s_li\n",
    "li.sort(reverse=True) # !!! return None, but sort on the original \"li\" list\n",
    "print('list:',li)\n",
    "\n",
    "# tuple\n",
    "tup = (9, 1, 2, 11)\n",
    "s_tup=sorted(tup)\n",
    "print('tuple:',s_tup)\n",
    "\n",
    "# dict\n",
    "di= {'name':'wenlu', 'job': 'student', 'age':'27'}\n",
    "s_di = sorted(di) #sort by the key\n",
    "print('dict:',s_di)"
   ]
  },
  {
   "cell_type": "code",
   "execution_count": 32,
   "metadata": {
    "collapsed": false
   },
   "outputs": [
    {
     "name": "stdout",
     "output_type": "stream",
     "text": [
      "[1, 2, 3, -4, -5, -6]\n",
      "[(Amelie,25, $2500), (Pmelie,32, $1800), (Bmelie,18, $1900)]\n",
      "[(Amelie,25, $2500), (Bmelie,18, $1900), (Pmelie,32, $1800)]\n",
      "[(Pmelie,32, $1800), (Bmelie,18, $1900), (Amelie,25, $2500)]\n"
     ]
    }
   ],
   "source": [
    "# sort by self defined key\n",
    "li = [-6, -5 , -4, 1, 2, 3 ]\n",
    "s_li = sorted(li, key=abs) # sort by absolute value\n",
    "print s_li\n",
    "\n",
    "# sort objects\n",
    "class employee:\n",
    "    def __init__(self, name, age, salary):\n",
    "        self.name = name\n",
    "        self.age = age\n",
    "        self.salary = salary\n",
    "        \n",
    "    def __repr__(self):\n",
    "        return '({},{}, ${})'.format(self.name, self.age, self.salary)\n",
    "    \n",
    "e1= employee('Amelie', 25, 2500)\n",
    "e2= employee('Pmelie', 32, 1800)\n",
    "e3= employee('Bmelie', 18, 1900)\n",
    "\n",
    "es=[e1, e2, e3]\n",
    "\n",
    "def sort_employee(employee):\n",
    "    return employee.salary\n",
    "s_es = sorted(es, key=sort_employee, reverse = True)\n",
    "s_es_name = sorted(es, key=lambda e:e.name, reverse = True)\n",
    "print es\n",
    "print s_es\n",
    "print s_es_name"
   ]
  },
  {
   "cell_type": "code",
   "execution_count": 45,
   "metadata": {
    "collapsed": false
   },
   "outputs": [
    {
     "name": "stdout",
     "output_type": "stream",
     "text": [
      "   A         B  C\n",
      "0  a -0.352423  1\n",
      "1  b -1.754290  3\n",
      "2  c -0.389376  2\n",
      "3  a -0.854791  4\n",
      "4  b  0.676631  0\n",
      "   A         B  C\n",
      "0  a -0.352423  1\n",
      "3  a -0.854791  4\n",
      "4  b  0.676631  0\n",
      "1  b -1.754290  3\n",
      "2  c -0.389376  2\n"
     ]
    },
    {
     "data": {
      "text/plain": [
       "1   -1.754290\n",
       "3   -0.854791\n",
       "2   -0.389376\n",
       "0   -0.352423\n",
       "4    0.676631\n",
       "Name: B, dtype: float64"
      ]
     },
     "execution_count": 45,
     "metadata": {},
     "output_type": "execute_result"
    }
   ],
   "source": [
    "# sort dataframe \n",
    "import pandas as pd\n",
    "import numpy as np\n",
    "df = pd.DataFrame({'A':list('abcab'),'B':np.random.randn(5),'C':([1,3,2,4,0])})\n",
    "print df\n",
    "print df.sort_values(by=['A', 'C'],ascending = True, inplace = False)\n",
    "\n",
    "# sort series\n",
    "s= df['B']\n",
    "s.sort_values()"
   ]
  },
  {
   "cell_type": "markdown",
   "metadata": {},
   "source": [
    "# comprehensions"
   ]
  },
  {
   "cell_type": "code",
   "execution_count": 51,
   "metadata": {
    "collapsed": false
   },
   "outputs": [
    {
     "name": "stdout",
     "output_type": "stream",
     "text": [
      "[0, 1, 2, 3, 4, 5, 6, 7, 8]\n",
      "[0, 2, 4, 6, 8]\n",
      "['a', 'b', 'c', 'd'] [0, 1, 2, 3]\n",
      "[(0, 'a'), (0, 'b'), (0, 'c'), (0, 'd'), (1, 'a'), (1, 'b'), (1, 'c'), (1, 'd'), (2, 'a'), (2, 'b'), (2, 'c'), (2, 'd'), (3, 'a'), (3, 'b'), (3, 'c'), (3, 'd')]\n",
      "{'a': 0, 'c': 2, 'b': 1}\n"
     ]
    }
   ],
   "source": [
    "nums = range(9) \n",
    "print nums\n",
    "# get all the even numbers (comprehension with condition)\n",
    "eve_nums = [i for i in nums if i%2==0]\n",
    "print eve_nums\n",
    "\n",
    "# get all the combinations of two lists\n",
    "letters=list('abcd')\n",
    "numbers=range(4)\n",
    "all_com=[(number,letter) for number in numbers for letter in letters]\n",
    "print letters, numbers\n",
    "print all_com\n",
    "\n",
    "# get dict comprehension\n",
    "letters=list('abcd')\n",
    "numbers=range(4)\n",
    "mydict= {letter:number for letter, number in zip(letters, numbers) if number!=3}\n",
    "print mydict\n"
   ]
  }
 ],
 "metadata": {
  "kernelspec": {
   "display_name": "Python 2",
   "language": "python",
   "name": "python2"
  },
  "language_info": {
   "codemirror_mode": {
    "name": "ipython",
    "version": 2
   },
   "file_extension": ".py",
   "mimetype": "text/x-python",
   "name": "python",
   "nbconvert_exporter": "python",
   "pygments_lexer": "ipython2",
   "version": "2.7.13"
  }
 },
 "nbformat": 4,
 "nbformat_minor": 2
}
